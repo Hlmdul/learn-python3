{
  "cells": [
    {
      "cell_type": "markdown",
      "metadata": {
        "id": "view-in-github",
        "colab_type": "text"
      },
      "source": [
        "<a href=\"https://colab.research.google.com/github/Hlmdul/learn-python3/blob/master/002_data_types.ipynb\" target=\"_parent\"><img src=\"https://colab.research.google.com/assets/colab-badge.svg\" alt=\"Open In Colab\"/></a>"
      ]
    },
    {
      "cell_type": "markdown",
      "metadata": {
        "id": "5YZJxv4fxEDX"
      },
      "source": [
        "# Data Types and comments"
      ]
    },
    {
      "cell_type": "markdown",
      "metadata": {
        "id": "pUlf3GY6xEDu"
      },
      "source": [
        "We've already learned this before:\n",
        "\n",
        "- `\"I'm so excited to meet you guys there!\"` is a data with a data type of string\n",
        "\n",
        "There are several data types in Python, we'll explore three of them for now: `string`, `float` and `int`."
      ]
    },
    {
      "cell_type": "markdown",
      "metadata": {
        "id": "LUA1cseYxEDw"
      },
      "source": [
        "# Google Colab, Jupyter Notebook, and Visual Studio Code will \"print\" the last line of code automatically\n",
        "\n",
        "Before we continue, please check below code"
      ]
    },
    {
      "cell_type": "code",
      "execution_count": 1,
      "metadata": {
        "id": "QcAgXYzjxEDx",
        "outputId": "eddb6d2c-153c-4184-e59f-8c81a4d797a1",
        "colab": {
          "base_uri": "https://localhost:8080/",
          "height": 35
        }
      },
      "outputs": [
        {
          "output_type": "execute_result",
          "data": {
            "text/plain": [
              "'Hello!'"
            ],
            "application/vnd.google.colaboratory.intrinsic+json": {
              "type": "string"
            }
          },
          "metadata": {},
          "execution_count": 1
        }
      ],
      "source": [
        "\"Hi everyone\"\n",
        "\"Hello!\""
      ]
    },
    {
      "cell_type": "markdown",
      "metadata": {
        "id": "6BjHGd6NxED5"
      },
      "source": [
        "As you can see above, our result to above two lines of code will only show the result of the last line of code. This concept is called printing, we can print any code in any line by using `print()` like below:"
      ]
    },
    {
      "cell_type": "code",
      "execution_count": 2,
      "metadata": {
        "id": "ZxV25pW0xEEA",
        "outputId": "cc9e8a74-a5e3-4a1d-843b-34b4d82ac079",
        "colab": {
          "base_uri": "https://localhost:8080/",
          "height": 53
        }
      },
      "outputs": [
        {
          "output_type": "stream",
          "name": "stdout",
          "text": [
            "Hello!\n"
          ]
        },
        {
          "output_type": "execute_result",
          "data": {
            "text/plain": [
              "'Hi!'"
            ],
            "application/vnd.google.colaboratory.intrinsic+json": {
              "type": "string"
            }
          },
          "metadata": {},
          "execution_count": 2
        }
      ],
      "source": [
        "\"Yes!\"\n",
        "print(\"Hello!\")\n",
        "\"Hi!\""
      ]
    },
    {
      "cell_type": "markdown",
      "metadata": {
        "id": "01v9jFsdxEEB"
      },
      "source": [
        "As you can see above we have 3 lines of code, but we only print the second and third line of code. The second line of code is printed because we use `print()`, while the third line of code is printed because it is the last line of code."
      ]
    },
    {
      "cell_type": "markdown",
      "metadata": {
        "id": "-rz_G42pVWdn"
      },
      "source": [
        "# Challenge!\n",
        "\n",
        "## Challenge 1\n",
        "\n",
        "Make sure both of the string below are printed"
      ]
    },
    {
      "cell_type": "code",
      "execution_count": 3,
      "metadata": {
        "colab": {
          "base_uri": "https://localhost:8080/",
          "height": 53
        },
        "id": "TVttzyAHVWdn",
        "outputId": "d42a4bb0-d0bf-4942-e593-d6deb0404caf"
      },
      "outputs": [
        {
          "output_type": "stream",
          "name": "stdout",
          "text": [
            "Halo dunia\n"
          ]
        },
        {
          "output_type": "execute_result",
          "data": {
            "text/plain": [
              "'Hi world'"
            ],
            "application/vnd.google.colaboratory.intrinsic+json": {
              "type": "string"
            }
          },
          "metadata": {},
          "execution_count": 3
        }
      ],
      "source": [
        "print(\"Halo dunia\")\n",
        "\"Hi world\""
      ]
    },
    {
      "cell_type": "markdown",
      "metadata": {
        "id": "ijiXFQUDVWdn"
      },
      "source": [
        "When you are done with the above challenge, then:\n",
        "1. Input your student_id and name in the box below\n",
        "2. Change the text \"my result\" below with the text \"done\"\n",
        "3. Run the code block by pressing the play button."
      ]
    },
    {
      "cell_type": "code",
      "execution_count": 40,
      "metadata": {
        "id": "z5svkiRwVWdo",
        "outputId": "5835e84a-34cd-4d74-d493-f765ebd03386",
        "colab": {
          "base_uri": "https://localhost:8080/",
          "height": 244
        }
      },
      "outputs": [
        {
          "output_type": "stream",
          "name": "stdout",
          "text": [
            "Requirement already satisfied: rggrader in /usr/local/lib/python3.10/dist-packages (0.1.6)\n",
            "Requirement already satisfied: requests in /usr/local/lib/python3.10/dist-packages (from rggrader) (2.31.0)\n",
            "Requirement already satisfied: pandas in /usr/local/lib/python3.10/dist-packages (from rggrader) (1.5.3)\n",
            "Requirement already satisfied: Pillow in /usr/local/lib/python3.10/dist-packages (from rggrader) (9.4.0)\n",
            "Requirement already satisfied: python-dateutil>=2.8.1 in /usr/local/lib/python3.10/dist-packages (from pandas->rggrader) (2.8.2)\n",
            "Requirement already satisfied: pytz>=2020.1 in /usr/local/lib/python3.10/dist-packages (from pandas->rggrader) (2023.3.post1)\n",
            "Requirement already satisfied: numpy>=1.21.0 in /usr/local/lib/python3.10/dist-packages (from pandas->rggrader) (1.23.5)\n",
            "Requirement already satisfied: charset-normalizer<4,>=2 in /usr/local/lib/python3.10/dist-packages (from requests->rggrader) (3.3.2)\n",
            "Requirement already satisfied: idna<4,>=2.5 in /usr/local/lib/python3.10/dist-packages (from requests->rggrader) (3.4)\n",
            "Requirement already satisfied: urllib3<3,>=1.21.1 in /usr/local/lib/python3.10/dist-packages (from requests->rggrader) (2.0.7)\n",
            "Requirement already satisfied: certifi>=2017.4.17 in /usr/local/lib/python3.10/dist-packages (from requests->rggrader) (2023.7.22)\n",
            "Requirement already satisfied: six>=1.5 in /usr/local/lib/python3.10/dist-packages (from python-dateutil>=2.8.1->pandas->rggrader) (1.16.0)\n"
          ]
        },
        {
          "output_type": "execute_result",
          "data": {
            "text/plain": [
              "'Assignment successfully submitted'"
            ],
            "application/vnd.google.colaboratory.intrinsic+json": {
              "type": "string"
            }
          },
          "metadata": {},
          "execution_count": 40
        }
      ],
      "source": [
        "!pip install rggrader\n",
        "\n",
        "from rggrader import submit\n",
        "\n",
        "# @title #### Student Identity\n",
        "student_id = \"REAPJAX7\" # @param {type:\"string\"}\n",
        "name = \"Hilmi Abdullah\" # @param {type:\"string\"}\n",
        "\n",
        "result = \"done\"\n",
        "\n",
        "# Submit Method\n",
        "assignment_id = \"002_data_types\"\n",
        "question_id = \"01_using_print\"\n",
        "submit(student_id, name, assignment_id, result, question_id)"
      ]
    },
    {
      "cell_type": "markdown",
      "metadata": {
        "id": "aP64qYkVxEEC"
      },
      "source": [
        "# String\n",
        "\n",
        "A string is a data type that is used to represent text. It is enclosed by either single or double quotes.\n",
        "\n",
        "```python\n",
        "'Thank you for coming to my TED talk'\n",
        "\n",
        "\"I'm so excited to meet you guys there!\"\n",
        "```\n",
        "\n",
        "A string can be manipulated like what we've already seen in previous learning\n",
        "\n",
        "```python\n",
        "\"I'm so {emotion} to meet you guys there!\".replace(\"{emotion}\", \"excited\")\n",
        "```\n",
        "\n",
        "We see above our more complex string from previous learning: `\"I'm so excited to meet you guys there!\"`, then we replace the `{emotion}` with `\"excited\"`."
      ]
    },
    {
      "cell_type": "code",
      "source": [
        "\"aku suka kucing, khususnya kucing oren\".replace(\"kucing\", \"beruang\")"
      ],
      "metadata": {
        "colab": {
          "base_uri": "https://localhost:8080/",
          "height": 35
        },
        "id": "0KiDo4154n3z",
        "outputId": "2b4e3ddb-915d-4b6a-fd14-2cb5da8f64d4"
      },
      "execution_count": 5,
      "outputs": [
        {
          "output_type": "execute_result",
          "data": {
            "text/plain": [
              "'aku suka beruang, khususnya beruang oren'"
            ],
            "application/vnd.google.colaboratory.intrinsic+json": {
              "type": "string"
            }
          },
          "metadata": {},
          "execution_count": 5
        }
      ]
    },
    {
      "cell_type": "markdown",
      "metadata": {
        "id": "-Z2VvtdBxEEI"
      },
      "source": [
        "# Arguments\n",
        "\n",
        "We'll learn more about method and a concept that's basically similar to method called function later, but for now, let's give a quick brief about methods and arguments.\n",
        "\n",
        "If we see the code below:\n",
        "\n",
        "```python\n",
        "\"I'm so {emotion} to meet you guys there!\".replace(\"{emotion}\", \"excited\")\n",
        "```\n",
        "\n",
        "What's called method is the `.replace()` part, while the `{emotion}` and `\"excited\"` are called arguments.\n",
        "\n",
        "The number of arguments itself can be varied between method, sometimes a method can have no argument, sometimes it can have one, two, or even more arguments."
      ]
    },
    {
      "cell_type": "markdown",
      "metadata": {
        "id": "dnwP-gA1xEEK"
      },
      "source": [
        "# String methods"
      ]
    },
    {
      "cell_type": "markdown",
      "metadata": {
        "id": "VmLy1A8NxEEK"
      },
      "source": [
        "## `.lower()`\n",
        "\n",
        "This method will convert all characters in a string into lowercase"
      ]
    },
    {
      "cell_type": "code",
      "execution_count": 6,
      "metadata": {
        "id": "y3cfvwXCxEEM",
        "colab": {
          "base_uri": "https://localhost:8080/",
          "height": 35
        },
        "outputId": "310eb5f2-ea9f-4715-ced1-9e01f2c18580"
      },
      "outputs": [
        {
          "output_type": "execute_result",
          "data": {
            "text/plain": [
              "\"i'm not shouting\""
            ],
            "application/vnd.google.colaboratory.intrinsic+json": {
              "type": "string"
            }
          },
          "metadata": {},
          "execution_count": 6
        }
      ],
      "source": [
        "\"I'M NOT SHOUTING\".lower()"
      ]
    },
    {
      "cell_type": "markdown",
      "metadata": {
        "id": "3FeP60d1xEER"
      },
      "source": [
        "## `.strip()`\n",
        "\n",
        "This method will remove all leading and trailing whitespaces from a string"
      ]
    },
    {
      "cell_type": "code",
      "execution_count": 7,
      "metadata": {
        "id": "qIjSknRUxEER",
        "outputId": "46308861-78ed-4530-8dcb-3cd484e4bf3e",
        "colab": {
          "base_uri": "https://localhost:8080/",
          "height": 35
        }
      },
      "outputs": [
        {
          "output_type": "execute_result",
          "data": {
            "text/plain": [
              "'Hello dunia'"
            ],
            "application/vnd.google.colaboratory.intrinsic+json": {
              "type": "string"
            }
          },
          "metadata": {},
          "execution_count": 7
        }
      ],
      "source": [
        "\"   Hello dunia      \".strip()"
      ]
    },
    {
      "cell_type": "markdown",
      "metadata": {
        "id": "1Rjj2VFgxEES"
      },
      "source": [
        "## `.replace()`\n",
        "\n",
        "This method will replace all occurrences of a string with another string"
      ]
    },
    {
      "cell_type": "code",
      "execution_count": 8,
      "metadata": {
        "id": "Gke9KB3GxEES",
        "outputId": "bae0202b-b2f6-4984-e041-35214e3d46b2",
        "colab": {
          "base_uri": "https://localhost:8080/",
          "height": 35
        }
      },
      "outputs": [
        {
          "output_type": "execute_result",
          "data": {
            "text/plain": [
              "'Bob is a dog'"
            ],
            "application/vnd.google.colaboratory.intrinsic+json": {
              "type": "string"
            }
          },
          "metadata": {},
          "execution_count": 8
        }
      ],
      "source": [
        "\"Bob is a cat\".replace(\"cat\", \"dog\")"
      ]
    },
    {
      "cell_type": "markdown",
      "metadata": {
        "id": "kJjPQoqsxEEV"
      },
      "source": [
        "If we add an empty string as the second argument, it will remove all occurrences of a string"
      ]
    },
    {
      "cell_type": "code",
      "execution_count": 9,
      "metadata": {
        "id": "xp-YUhpvxEEY",
        "outputId": "0f1d674d-2239-4d97-f091-e07d9bef1122",
        "colab": {
          "base_uri": "https://localhost:8080/",
          "height": 35
        }
      },
      "outputs": [
        {
          "output_type": "execute_result",
          "data": {
            "text/plain": [
              "'   dog human horse'"
            ],
            "application/vnd.google.colaboratory.intrinsic+json": {
              "type": "string"
            }
          },
          "metadata": {},
          "execution_count": 9
        }
      ],
      "source": [
        "\"cat cat cat dog human horse\".replace(\"cat\", \"\")"
      ]
    },
    {
      "cell_type": "markdown",
      "metadata": {
        "id": "2LB05oQTxEEc"
      },
      "source": [
        "We won't list down every methods here, you can check more on https://www.w3schools.com/python/python_ref_string.asp"
      ]
    },
    {
      "cell_type": "markdown",
      "metadata": {
        "id": "dULvG5pf7yVF"
      },
      "source": [
        "# Challenge!"
      ]
    },
    {
      "cell_type": "markdown",
      "metadata": {
        "id": "mh7ZuzqTVWdp"
      },
      "source": [
        "## Upper\n",
        "\n",
        "Using `.upper()` method, convert the string below into uppercase"
      ]
    },
    {
      "cell_type": "code",
      "execution_count": 10,
      "metadata": {
        "id": "-K30IhM7VWdp",
        "outputId": "f69087d4-9eef-419f-b5ab-eb41fbca434a",
        "colab": {
          "base_uri": "https://localhost:8080/",
          "height": 35
        }
      },
      "outputs": [
        {
          "output_type": "execute_result",
          "data": {
            "text/plain": [
              "'HI MY NAME IS ANDI'"
            ],
            "application/vnd.google.colaboratory.intrinsic+json": {
              "type": "string"
            }
          },
          "metadata": {},
          "execution_count": 10
        }
      ],
      "source": [
        "\"hi my name is andi\".upper()"
      ]
    },
    {
      "cell_type": "markdown",
      "metadata": {
        "id": "bsE8kxLOVWdp"
      },
      "source": [
        "When you are done with the above challenge, then:\n",
        "\n",
        "1. Change the text \"my result\" below with the text \"done\"\n",
        "2. Run the code block by pressing the play button."
      ]
    },
    {
      "cell_type": "code",
      "execution_count": 11,
      "metadata": {
        "id": "OzZ6cXEwVWdp",
        "outputId": "f93911e0-2685-46d4-fe8e-d442218460f7",
        "colab": {
          "base_uri": "https://localhost:8080/",
          "height": 35
        }
      },
      "outputs": [
        {
          "output_type": "execute_result",
          "data": {
            "text/plain": [
              "'Assignment successfully submitted'"
            ],
            "application/vnd.google.colaboratory.intrinsic+json": {
              "type": "string"
            }
          },
          "metadata": {},
          "execution_count": 11
        }
      ],
      "source": [
        "# Submit Method\n",
        "assignment_id = \"002_data_types\"\n",
        "question_id = \"02_upper\"\n",
        "\n",
        "result = \"done\"\n",
        "\n",
        "submit(student_id, name, assignment_id, result, question_id)"
      ]
    },
    {
      "cell_type": "markdown",
      "metadata": {
        "id": "retUmbgbVWdp"
      },
      "source": [
        "## Replace\n",
        "\n",
        "Replace below name from \"Ridho\" to \"Fajar\"!"
      ]
    },
    {
      "cell_type": "code",
      "execution_count": 12,
      "metadata": {
        "id": "jPBePnV9VWdp",
        "outputId": "1d586992-bd1c-4550-f2a8-f3c41a3b424b",
        "colab": {
          "base_uri": "https://localhost:8080/",
          "height": 35
        }
      },
      "outputs": [
        {
          "output_type": "execute_result",
          "data": {
            "text/plain": [
              "'Hi, my name is Fajar'"
            ],
            "application/vnd.google.colaboratory.intrinsic+json": {
              "type": "string"
            }
          },
          "metadata": {},
          "execution_count": 12
        }
      ],
      "source": [
        "\"Hi, my name is Ridho\".replace(\"Ridho\", \"Fajar\")"
      ]
    },
    {
      "cell_type": "markdown",
      "metadata": {
        "id": "VJ3wyLc3VWdp"
      },
      "source": [
        "When you are done with the above challenge, then:\n",
        "\n",
        "1. Change the text \"my result\" below with the text \"done\"\n",
        "2. Run the code block by pressing the play button."
      ]
    },
    {
      "cell_type": "code",
      "execution_count": 13,
      "metadata": {
        "id": "tpEBsq3oVWdp",
        "outputId": "df283e60-79b5-4e5d-9556-0fb92680b8d2",
        "colab": {
          "base_uri": "https://localhost:8080/",
          "height": 35
        }
      },
      "outputs": [
        {
          "output_type": "execute_result",
          "data": {
            "text/plain": [
              "'Assignment successfully submitted'"
            ],
            "application/vnd.google.colaboratory.intrinsic+json": {
              "type": "string"
            }
          },
          "metadata": {},
          "execution_count": 13
        }
      ],
      "source": [
        "# Submit Method\n",
        "assignment_id = \"002_data_types\"\n",
        "question_id = \"03_replace\"\n",
        "\n",
        "result = \"done\"\n",
        "\n",
        "submit(student_id, name, assignment_id, result, question_id)"
      ]
    },
    {
      "cell_type": "markdown",
      "metadata": {
        "id": "1rbUnmFtVWdp"
      },
      "source": [
        "## String\n",
        "\n",
        "Remove all leading and trailing whitespaces from below string"
      ]
    },
    {
      "cell_type": "code",
      "execution_count": 14,
      "metadata": {
        "id": "D6cnkRmyVWdp",
        "outputId": "87edc538-a59c-40f1-c419-7d87d408bca8",
        "colab": {
          "base_uri": "https://localhost:8080/",
          "height": 35
        }
      },
      "outputs": [
        {
          "output_type": "execute_result",
          "data": {
            "text/plain": [
              "'HELLO'"
            ],
            "application/vnd.google.colaboratory.intrinsic+json": {
              "type": "string"
            }
          },
          "metadata": {},
          "execution_count": 14
        }
      ],
      "source": [
        "\"   HELLO   \".strip()"
      ]
    },
    {
      "cell_type": "markdown",
      "metadata": {
        "id": "tHwI-rXQVWdp"
      },
      "source": [
        "When you are done with the above challenge, then:\n",
        "\n",
        "1. Change the text \"my result\" below with the text \"done\"\n",
        "2. Run the code block by pressing the play button."
      ]
    },
    {
      "cell_type": "code",
      "execution_count": 15,
      "metadata": {
        "id": "4G0GKU59VWdp",
        "outputId": "a40c3e3c-28ab-4f27-e857-44ebcf850653",
        "colab": {
          "base_uri": "https://localhost:8080/",
          "height": 35
        }
      },
      "outputs": [
        {
          "output_type": "execute_result",
          "data": {
            "text/plain": [
              "'Assignment successfully submitted'"
            ],
            "application/vnd.google.colaboratory.intrinsic+json": {
              "type": "string"
            }
          },
          "metadata": {},
          "execution_count": 15
        }
      ],
      "source": [
        "# Submit Method\n",
        "assignment_id = \"002_data_types\"\n",
        "question_id = \"04_string\"\n",
        "\n",
        "result = \"done\"\n",
        "\n",
        "submit(student_id, name, assignment_id, result, question_id)"
      ]
    },
    {
      "cell_type": "markdown",
      "metadata": {
        "id": "h2PJVEW_xEEd"
      },
      "source": [
        "## Method chaining\n",
        "\n",
        "We can chain multiple methods together, for example:\n",
        "\n",
        "```python\n",
        "\"I'm so excited to meet you guys there!\".lower().replace(\"excited\", \"happy\")\n",
        "```\n",
        "\n",
        "Will result in:\n",
        "\n",
        "```python\n",
        "\"i'm so happy to meet you guys there!\"\n",
        "```"
      ]
    },
    {
      "cell_type": "markdown",
      "metadata": {
        "id": "04C56jVdVWdq"
      },
      "source": [
        "# Challenge\n",
        "\n",
        "## Challenge 1\n",
        "\n",
        "Replace all occurrences of \"cat\" to \"\" (empty string) and remove all leading whitespaces (the output should be: \"dog human horse\")"
      ]
    },
    {
      "cell_type": "code",
      "execution_count": 16,
      "metadata": {
        "id": "cRPIsOouVWdq",
        "outputId": "dccf3085-c6e9-44b5-a963-342be253c44c",
        "colab": {
          "base_uri": "https://localhost:8080/",
          "height": 35
        }
      },
      "outputs": [
        {
          "output_type": "execute_result",
          "data": {
            "text/plain": [
              "'dog human horse'"
            ],
            "application/vnd.google.colaboratory.intrinsic+json": {
              "type": "string"
            }
          },
          "metadata": {},
          "execution_count": 16
        }
      ],
      "source": [
        "\"cat cat cat dog human horse\".replace(\"cat\", \"\").strip()"
      ]
    },
    {
      "cell_type": "markdown",
      "metadata": {
        "id": "JYpO9kGnVWdw"
      },
      "source": [
        "When you are done with the above challenge, then:\n",
        "\n",
        "1. Change the text \"my result\" below with the text \"done\"\n",
        "2. Run the code block by pressing the play button."
      ]
    },
    {
      "cell_type": "code",
      "execution_count": 17,
      "metadata": {
        "id": "fxcWWWhOVWdw",
        "outputId": "662b8de3-e079-4482-f513-abe65142b541",
        "colab": {
          "base_uri": "https://localhost:8080/",
          "height": 35
        }
      },
      "outputs": [
        {
          "output_type": "execute_result",
          "data": {
            "text/plain": [
              "'Assignment successfully submitted'"
            ],
            "application/vnd.google.colaboratory.intrinsic+json": {
              "type": "string"
            }
          },
          "metadata": {},
          "execution_count": 17
        }
      ],
      "source": [
        "# Submit Method\n",
        "assignment_id = \"002_data_types\"\n",
        "question_id = \"05_method_chain_1\"\n",
        "\n",
        "result = \"done\"\n",
        "\n",
        "submit(student_id, name, assignment_id, result, question_id)"
      ]
    },
    {
      "cell_type": "markdown",
      "metadata": {
        "id": "pRvwSryDVWdw"
      },
      "source": [
        "## Challenge 2\n",
        "\n",
        "Convert below string to \"IT'S SO COOL!\""
      ]
    },
    {
      "cell_type": "code",
      "execution_count": 19,
      "metadata": {
        "id": "VzaCDDO4xEEq",
        "outputId": "474119a1-bec1-4d86-96d9-994f8c59ce0b",
        "colab": {
          "base_uri": "https://localhost:8080/"
        }
      },
      "outputs": [
        {
          "output_type": "stream",
          "name": "stdout",
          "text": [
            "IT'S SO COOL!\n"
          ]
        }
      ],
      "source": [
        "print(\"  It's so cool!    \".strip().upper())"
      ]
    },
    {
      "cell_type": "markdown",
      "metadata": {
        "id": "lpclcu76VWdx"
      },
      "source": [
        "When you are done with the above challenge, then:\n",
        "\n",
        "1. Change the text \"my result\" below with the text \"done\"\n",
        "2. Run the code block by pressing the play button."
      ]
    },
    {
      "cell_type": "code",
      "execution_count": 20,
      "metadata": {
        "id": "NtiYRb1mVWdx",
        "outputId": "6f9089ad-ab67-4390-9819-7c6978390404",
        "colab": {
          "base_uri": "https://localhost:8080/",
          "height": 35
        }
      },
      "outputs": [
        {
          "output_type": "execute_result",
          "data": {
            "text/plain": [
              "'Assignment successfully submitted'"
            ],
            "application/vnd.google.colaboratory.intrinsic+json": {
              "type": "string"
            }
          },
          "metadata": {},
          "execution_count": 20
        }
      ],
      "source": [
        "# Submit Method\n",
        "assignment_id = \"002_data_types\"\n",
        "question_id = \"06_method_chain_2\"\n",
        "\n",
        "result = \"done\"\n",
        "\n",
        "submit(student_id, name, assignment_id, result, question_id)"
      ]
    },
    {
      "cell_type": "markdown",
      "metadata": {
        "id": "GvnlQDReVWdx"
      },
      "source": [
        "## Challenge 3\n",
        "\n",
        "Convert below string to \"I'm not a bird\"\n",
        "\n",
        "Note:\n",
        "\n",
        "- If you want to delete a word from a sentence, make sure you add space before and after the word so it will remove the word and the space before and after it.\n",
        "\n",
        "```python\n",
        "\"I'm so hungry\".replace(\"so\", \"\") # WRONG, it will result in \"I'm  hungry\" (notice the extra space)\n",
        "\"I'm so hungry\".replace(\" so \", \"\") # CORRECT, it will result in \"I'm hungry\"\n",
        "```"
      ]
    },
    {
      "cell_type": "code",
      "execution_count": 21,
      "metadata": {
        "id": "317M157mVWdx",
        "outputId": "e97c8262-dc50-40d5-ea75-26a64b6e6125",
        "colab": {
          "base_uri": "https://localhost:8080/",
          "height": 35
        }
      },
      "outputs": [
        {
          "output_type": "execute_result",
          "data": {
            "text/plain": [
              "\"I'm not a bird\""
            ],
            "application/vnd.google.colaboratory.intrinsic+json": {
              "type": "string"
            }
          },
          "metadata": {},
          "execution_count": 21
        }
      ],
      "source": [
        "\"I'm not a cat\".replace(\"cat\", \"bird\")"
      ]
    },
    {
      "cell_type": "markdown",
      "metadata": {
        "id": "my4qcua6VWdx"
      },
      "source": [
        "When you are done with the above challenge, then:\n",
        "\n",
        "1. Change the text \"my result\" below with the text \"done\"\n",
        "2. Run the code block by pressing the play button."
      ]
    },
    {
      "cell_type": "code",
      "execution_count": 22,
      "metadata": {
        "id": "RUwUxgsqVWdx",
        "outputId": "374431b7-1b7d-46fe-e2ee-0a6a43791df4",
        "colab": {
          "base_uri": "https://localhost:8080/",
          "height": 35
        }
      },
      "outputs": [
        {
          "output_type": "execute_result",
          "data": {
            "text/plain": [
              "'Assignment successfully submitted'"
            ],
            "application/vnd.google.colaboratory.intrinsic+json": {
              "type": "string"
            }
          },
          "metadata": {},
          "execution_count": 22
        }
      ],
      "source": [
        "# Submit Method\n",
        "assignment_id = \"002_data_types\"\n",
        "question_id = \"07_method_chain_3\"\n",
        "\n",
        "result = \"done\"\n",
        "\n",
        "submit(student_id, name, assignment_id, result, question_id)"
      ]
    },
    {
      "cell_type": "markdown",
      "metadata": {
        "id": "zSWHGX7RVWdx"
      },
      "source": [
        "# Comment\n",
        "\n",
        "Comment is a text that is ignored by the computer, it's mostly used to explain what a code does."
      ]
    },
    {
      "cell_type": "code",
      "execution_count": 23,
      "metadata": {
        "id": "seQgg9fDVWdx",
        "outputId": "9abefdcc-e114-42bd-9561-d194a686943a",
        "colab": {
          "base_uri": "https://localhost:8080/",
          "height": 35
        }
      },
      "outputs": [
        {
          "output_type": "execute_result",
          "data": {
            "text/plain": [
              "'This line will be executed'"
            ],
            "application/vnd.google.colaboratory.intrinsic+json": {
              "type": "string"
            }
          },
          "metadata": {},
          "execution_count": 23
        }
      ],
      "source": [
        "# This is a comment, this line will not be executed\n",
        "# def my_function():\n",
        "#     print(\"Hello from a function\")\n",
        "# above code will not be executed either\n",
        "\n",
        "\"This line will be executed\" # print(\"This line will not be executed\")"
      ]
    },
    {
      "cell_type": "markdown",
      "metadata": {
        "id": "EnxX7SS6xEEe"
      },
      "source": [
        "# String concatenation\n",
        "\n",
        "We can concatenate (combine) two strings together using `+` operator"
      ]
    },
    {
      "cell_type": "code",
      "execution_count": 24,
      "metadata": {
        "id": "SfO_hZb_xEEe",
        "outputId": "c68e845c-5f68-43fe-cb1d-c75afacb54a2",
        "colab": {
          "base_uri": "https://localhost:8080/",
          "height": 35
        }
      },
      "outputs": [
        {
          "output_type": "execute_result",
          "data": {
            "text/plain": [
              "'Hello world!'"
            ],
            "application/vnd.google.colaboratory.intrinsic+json": {
              "type": "string"
            }
          },
          "metadata": {},
          "execution_count": 24
        }
      ],
      "source": [
        "\"Hello \" + \"world!\""
      ]
    },
    {
      "cell_type": "markdown",
      "metadata": {
        "id": "t8Zh3SrQVWdx"
      },
      "source": [
        "# Challenge\n",
        "\n",
        "## Challenge 1\n",
        "\n",
        "Try to concatenate below string with Rudi's name"
      ]
    },
    {
      "cell_type": "code",
      "execution_count": 25,
      "metadata": {
        "id": "G_vb0lM4VWdx",
        "outputId": "e9506642-205c-4ae2-8094-b0071b4b8e57",
        "colab": {
          "base_uri": "https://localhost:8080/",
          "height": 35
        }
      },
      "outputs": [
        {
          "output_type": "execute_result",
          "data": {
            "text/plain": [
              "'Imam, Andi, Ridho, Rudi'"
            ],
            "application/vnd.google.colaboratory.intrinsic+json": {
              "type": "string"
            }
          },
          "metadata": {},
          "execution_count": 25
        }
      ],
      "source": [
        "\"Imam, Andi, Ridho\" + \", Rudi\" # Convert to \"Imam, Andi, Ridho, Rudi\""
      ]
    },
    {
      "cell_type": "markdown",
      "metadata": {
        "id": "EM6z46liVWdx"
      },
      "source": [
        "When you are done with the above challenge, then:\n",
        "\n",
        "1. Change the text \"my result\" below with the text \"done\"\n",
        "2. Run the code block by pressing the play button."
      ]
    },
    {
      "cell_type": "code",
      "execution_count": 26,
      "metadata": {
        "id": "O_1TGeQlVWdx",
        "outputId": "bc30ccd5-ed15-42a3-91e4-7e5f39fbac53",
        "colab": {
          "base_uri": "https://localhost:8080/",
          "height": 35
        }
      },
      "outputs": [
        {
          "output_type": "execute_result",
          "data": {
            "text/plain": [
              "'Assignment successfully submitted'"
            ],
            "application/vnd.google.colaboratory.intrinsic+json": {
              "type": "string"
            }
          },
          "metadata": {},
          "execution_count": 26
        }
      ],
      "source": [
        "# Submit Method\n",
        "assignment_id = \"002_data_types\"\n",
        "question_id = \"08_concat\"\n",
        "\n",
        "result = \"done\"\n",
        "\n",
        "submit(student_id, name, assignment_id, result, question_id)"
      ]
    },
    {
      "cell_type": "markdown",
      "metadata": {
        "id": "AbHz-S75xEEf"
      },
      "source": [
        "# Numbers (integers and floats)\n",
        "\n",
        "Numbers in Python are divided into two types: integers and floats. Integers are whole numbers, while floats are decimal numbers.\n",
        "\n",
        "Below are integers:\n",
        "\n",
        "```python\n",
        "1\n",
        "30\n",
        "70\n",
        "```\n",
        "\n",
        "Below are floats:\n",
        "\n",
        "```python\n",
        "1.0\n",
        "30.0\n",
        "70.0\n",
        "```\n",
        "\n",
        "We can do basic math operations with either integers or floats:"
      ]
    },
    {
      "cell_type": "code",
      "execution_count": 27,
      "metadata": {
        "id": "BzkkiW0AxEEg",
        "outputId": "86b019a3-eab0-4248-c9da-a4718f3ec552",
        "colab": {
          "base_uri": "https://localhost:8080/"
        }
      },
      "outputs": [
        {
          "output_type": "execute_result",
          "data": {
            "text/plain": [
              "16.0"
            ]
          },
          "metadata": {},
          "execution_count": 27
        }
      ],
      "source": [
        "(5 + 3) * 2.0"
      ]
    },
    {
      "cell_type": "markdown",
      "metadata": {
        "id": "VLrhaS9UVWdy"
      },
      "source": [
        "# Challenge!\n",
        "\n",
        "## Challenge 1\n",
        "\n",
        "Create a formula of 10 times 2.\n",
        "The output = 20"
      ]
    },
    {
      "cell_type": "code",
      "execution_count": 43,
      "metadata": {
        "id": "WNcRBLWjVWdy",
        "outputId": "4e20eb30-d5ff-449c-acfd-995f110e3109",
        "colab": {
          "base_uri": "https://localhost:8080/"
        }
      },
      "outputs": [
        {
          "output_type": "execute_result",
          "data": {
            "text/plain": [
              "20"
            ]
          },
          "metadata": {},
          "execution_count": 43
        }
      ],
      "source": [
        "# Write the code\n",
        "10*2"
      ]
    },
    {
      "cell_type": "markdown",
      "metadata": {
        "id": "zZM6lAY5VWdy"
      },
      "source": [
        "When you are done with the above challenge, then:\n",
        "\n",
        "1. Change the text \"my result\" below with the formula you created above.\n",
        "2. Run the code block by pressing the play button."
      ]
    },
    {
      "cell_type": "code",
      "execution_count": 44,
      "metadata": {
        "id": "lBghSuzhVWdy",
        "outputId": "2e879822-7780-40da-a9dd-8037a8b39b4e",
        "colab": {
          "base_uri": "https://localhost:8080/",
          "height": 35
        }
      },
      "outputs": [
        {
          "output_type": "execute_result",
          "data": {
            "text/plain": [
              "'Assignment successfully submitted'"
            ],
            "application/vnd.google.colaboratory.intrinsic+json": {
              "type": "string"
            }
          },
          "metadata": {},
          "execution_count": 44
        }
      ],
      "source": [
        "# Submit Method\n",
        "assignment_id = \"002_data_types\"\n",
        "question_id = \"09_math_1\"\n",
        "\n",
        "result = \"10*2\"\n",
        "\n",
        "submit(student_id, name, assignment_id, result, question_id)"
      ]
    },
    {
      "cell_type": "markdown",
      "metadata": {
        "id": "TKQXnxWWVWdy"
      },
      "source": [
        "## Challenge 2\n",
        "\n",
        "Create a formula of 10 plus 2 then times 3 (remember the order of operations, you might need to use parentheses?)\n",
        "The output = 36"
      ]
    },
    {
      "cell_type": "code",
      "execution_count": 41,
      "metadata": {
        "id": "qFNRol3gVWdy",
        "outputId": "49de078a-8286-49ef-cad5-868a54cf5276",
        "colab": {
          "base_uri": "https://localhost:8080/"
        }
      },
      "outputs": [
        {
          "output_type": "execute_result",
          "data": {
            "text/plain": [
              "36"
            ]
          },
          "metadata": {},
          "execution_count": 41
        }
      ],
      "source": [
        "# Write the code\n",
        "(10+2)*3"
      ]
    },
    {
      "cell_type": "markdown",
      "metadata": {
        "id": "UKsvqcGGVWdy"
      },
      "source": [
        "When you are done with the above challenge, then:\n",
        "\n",
        "1. Change the text \"my result\" below with the formula you created above.\n",
        "2. Run the code block by pressing the play button."
      ]
    },
    {
      "cell_type": "code",
      "execution_count": 42,
      "metadata": {
        "id": "BzhzUEHQVWdy",
        "outputId": "d2131d5b-7278-49fa-93c5-55ba1ffef0b0",
        "colab": {
          "base_uri": "https://localhost:8080/",
          "height": 35
        }
      },
      "outputs": [
        {
          "output_type": "execute_result",
          "data": {
            "text/plain": [
              "'Assignment successfully submitted'"
            ],
            "application/vnd.google.colaboratory.intrinsic+json": {
              "type": "string"
            }
          },
          "metadata": {},
          "execution_count": 42
        }
      ],
      "source": [
        "# Submit Method\n",
        "assignment_id = \"002_data_types\"\n",
        "question_id = \"10_math_2\"\n",
        "\n",
        "result = \"(10+2)*3\"\n",
        "\n",
        "submit(student_id, name, assignment_id, result, question_id)"
      ]
    }
  ],
  "metadata": {
    "colab": {
      "provenance": [],
      "include_colab_link": true
    },
    "kernelspec": {
      "display_name": "Python 3 (ipykernel)",
      "language": "python",
      "name": "python3"
    },
    "language_info": {
      "codemirror_mode": {
        "name": "ipython",
        "version": 3
      },
      "file_extension": ".py",
      "mimetype": "text/x-python",
      "name": "python",
      "nbconvert_exporter": "python",
      "pygments_lexer": "ipython3",
      "version": "3.11.3"
    }
  },
  "nbformat": 4,
  "nbformat_minor": 0
}